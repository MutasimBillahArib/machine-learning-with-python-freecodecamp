{
  "cells": [
    {
      "cell_type": "code",
      "execution_count": 1,
      "metadata": {
        "id": "Y1onB6kUvo4Z"
      },
      "outputs": [],
      "source": [
        "# import libraries (you may add additional imports but you may not have to)\n",
        "import numpy as np\n",
        "import pandas as pd\n",
        "from scipy.sparse import csr_matrix\n",
        "from sklearn.neighbors import NearestNeighbors\n",
        "import matplotlib.pyplot as plt"
      ]
    },
    {
      "cell_type": "code",
      "execution_count": 2,
      "metadata": {
        "id": "iAQGqqO_vo4d",
        "colab": {
          "base_uri": "https://localhost:8080/"
        },
        "outputId": "b6fce61f-114e-4129-9f39-d590f123e7c9"
      },
      "outputs": [
        {
          "output_type": "stream",
          "name": "stdout",
          "text": [
            "--2025-06-20 02:57:42--  https://cdn.freecodecamp.org/project-data/books/book-crossings.zip\n",
            "Resolving cdn.freecodecamp.org (cdn.freecodecamp.org)... 172.67.70.149, 104.26.2.33, 104.26.3.33, ...\n",
            "Connecting to cdn.freecodecamp.org (cdn.freecodecamp.org)|172.67.70.149|:443... connected.\n",
            "HTTP request sent, awaiting response... 200 OK\n",
            "Length: 26085508 (25M) [application/zip]\n",
            "Saving to: ‘book-crossings.zip’\n",
            "\n",
            "book-crossings.zip  100%[===================>]  24.88M  62.4MB/s    in 0.4s    \n",
            "\n",
            "2025-06-20 02:57:43 (62.4 MB/s) - ‘book-crossings.zip’ saved [26085508/26085508]\n",
            "\n",
            "Archive:  book-crossings.zip\n",
            "  inflating: BX-Book-Ratings.csv     \n",
            "  inflating: BX-Books.csv            \n",
            "  inflating: BX-Users.csv            \n"
          ]
        }
      ],
      "source": [
        "# get data files\n",
        "!wget https://cdn.freecodecamp.org/project-data/books/book-crossings.zip\n",
        "\n",
        "!unzip book-crossings.zip\n",
        "\n",
        "books_filename = 'BX-Books.csv'\n",
        "ratings_filename = 'BX-Book-Ratings.csv'"
      ]
    },
    {
      "cell_type": "code",
      "execution_count": 3,
      "metadata": {
        "id": "NClILWOiEd6Q"
      },
      "outputs": [],
      "source": [
        "# import csv data into dataframes\n",
        "df_books = pd.read_csv(\n",
        "    books_filename,\n",
        "    encoding = \"ISO-8859-1\",\n",
        "    sep=\";\",\n",
        "    header=0,\n",
        "    names=['isbn', 'title', 'author'],\n",
        "    usecols=['isbn', 'title', 'author'],\n",
        "    dtype={'isbn': 'str', 'title': 'str', 'author': 'str'})\n",
        "\n",
        "df_ratings = pd.read_csv(\n",
        "    ratings_filename,\n",
        "    encoding = \"ISO-8859-1\",\n",
        "    sep=\";\",\n",
        "    header=0,\n",
        "    names=['user', 'isbn', 'rating'],\n",
        "    usecols=['user', 'isbn', 'rating'],\n",
        "    dtype={'user': 'int32', 'isbn': 'str', 'rating': 'float32'})"
      ]
    },
    {
      "cell_type": "code",
      "execution_count": 4,
      "metadata": {
        "id": "xAcXjkCFCh0A"
      },
      "outputs": [],
      "source": [
        "# Preprocessing: Filter users and books\n",
        "user_ratings_count = df_ratings['user'].value_counts()\n",
        "book_ratings_count = df_ratings['isbn'].value_counts()\n",
        "\n",
        "df_ratings_filtered = df_ratings[\n",
        "    df_ratings['user'].isin(user_ratings_count[user_ratings_count >= 200].index) &\n",
        "    df_ratings['isbn'].isin(book_ratings_count[book_ratings_count >= 100].index)\n",
        "]\n",
        "\n",
        "# Merge with book data\n",
        "df_merged = df_ratings_filtered.merge(df_books, on='isbn')\n",
        "\n",
        "# Create pivot table\n",
        "df_pivot = df_merged.pivot(index='isbn', columns='user', values='rating').fillna(0)\n",
        "\n",
        "# Filter books to those in the pivot table\n",
        "df_books_filtered = df_books[df_books['isbn'].isin(df_pivot.index)]\n",
        "\n",
        "# Create title to ISBN mapping\n",
        "title_to_isbn = {}\n",
        "for title, group in df_books_filtered.groupby('title'):\n",
        "    title_to_isbn[title] = group['isbn'].iloc[0]\n",
        "\n",
        "# Create ISBN to title mapping\n",
        "isbn_to_title = df_books_filtered.set_index('isbn')['title'].to_dict()\n",
        "\n",
        "# Build the sparse matrix and KNN model\n",
        "book_matrix = csr_matrix(df_pivot.values)\n",
        "model_knn = NearestNeighbors(metric='cosine', algorithm='brute')\n",
        "model_knn.fit(book_matrix)\n",
        "\n",
        "# Recommendation function\n",
        "def get_recommends(book = \"\"):\n",
        "    if book not in title_to_isbn:\n",
        "        return [book, []]\n",
        "\n",
        "    isbn = title_to_isbn[book]\n",
        "    if isbn not in df_pivot.index:\n",
        "        return [book, []]\n",
        "\n",
        "    idx = df_pivot.index.get_loc(isbn)\n",
        "    distances, indices = model_knn.kneighbors(book_matrix[idx], n_neighbors=6)\n",
        "\n",
        "    distances = distances.flatten()[1:]\n",
        "    indices = indices.flatten()[1:]\n",
        "\n",
        "    distances = distances[::-1]\n",
        "    indices = indices[::-1]\n",
        "\n",
        "    recommended_books = []\n",
        "    for i in range(len(indices)):\n",
        "        book_isbn = df_pivot.index[indices[i]]\n",
        "        title = isbn_to_title[book_isbn]\n",
        "        dist = distances[i]\n",
        "        recommended_books.append([title, dist])\n",
        "\n",
        "    return [book, recommended_books]"
      ]
    },
    {
      "cell_type": "code",
      "execution_count": 5,
      "metadata": {
        "id": "jd2SLCh8oxMh",
        "colab": {
          "base_uri": "https://localhost:8080/"
        },
        "outputId": "6feea323-ed2c-47e4-d72b-2eff0d2e63eb"
      },
      "outputs": [
        {
          "output_type": "stream",
          "name": "stdout",
          "text": [
            "[\"Where the Heart Is (Oprah's Book Club (Paperback))\", [[\"I'll Be Seeing You\", np.float32(0.8016211)], ['The Weight of Water', np.float32(0.77085835)], ['The Surgeon', np.float32(0.7699411)], ['I Know This Much Is True', np.float32(0.7677075)], ['The Lovely Bones: A Novel', np.float32(0.7234864)]]]\n",
            "You passed the challenge! 🎉🎉🎉🎉🎉\n"
          ]
        }
      ],
      "source": [
        "books = get_recommends(\"Where the Heart Is (Oprah's Book Club (Paperback))\")\n",
        "print(books)\n",
        "\n",
        "def test_book_recommendation():\n",
        "  test_pass = True\n",
        "  recommends = get_recommends(\"Where the Heart Is (Oprah's Book Club (Paperback))\")\n",
        "  if recommends[0] != \"Where the Heart Is (Oprah's Book Club (Paperback))\":\n",
        "    test_pass = False\n",
        "  recommended_books = [\"I'll Be Seeing You\", 'The Weight of Water', 'The Surgeon', 'I Know This Much Is True']\n",
        "  recommended_books_dist = [0.8, 0.77, 0.77, 0.77]\n",
        "  for i in range(2):\n",
        "    if recommends[1][i][0] not in recommended_books:\n",
        "      test_pass = False\n",
        "    if abs(recommends[1][i][1] - recommended_books_dist[i]) >= 0.05:\n",
        "      test_pass = False\n",
        "  if test_pass:\n",
        "    print(\"You passed the challenge! 🎉🎉🎉🎉🎉\")\n",
        "  else:\n",
        "    print(\"You haven't passed yet. Keep trying!\")\n",
        "\n",
        "test_book_recommendation()"
      ]
    }
  ],
  "metadata": {
    "colab": {
      "name": "fcc_book_recommendation_knn.ipynb",
      "provenance": []
    },
    "kernelspec": {
      "display_name": "Python 3",
      "language": "python",
      "name": "python3"
    },
    "language_info": {
      "codemirror_mode": {
        "name": "ipython",
        "version": 3
      },
      "file_extension": ".py",
      "mimetype": "text/x-python",
      "name": "python",
      "nbconvert_exporter": "python",
      "pygments_lexer": "ipython3",
      "version": "3.6.5"
    }
  },
  "nbformat": 4,
  "nbformat_minor": 0
}